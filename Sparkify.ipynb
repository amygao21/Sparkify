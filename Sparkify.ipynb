{
 "cells": [
  {
   "cell_type": "markdown",
   "metadata": {},
   "source": [
    "# Sparkify Project Workspace\n",
    "This workspace contains a tiny subset (128MB) of the full dataset available (12GB). Feel free to use this workspace to build your project, or to explore a smaller subset with Spark before deploying your cluster on the cloud. Instructions for setting up your Spark cluster is included in the last lesson of the Extracurricular Spark Course content.\n",
    "\n",
    "You can follow the steps below to guide your data analysis and model building portion of this project."
   ]
  },
  {
   "cell_type": "markdown",
   "metadata": {},
   "source": [
    "### Table of Content \n",
    "I. [Load and Clean Data ](#load)<br>\n",
    "II. [Exploratory Data Analysis](#EDA)<br>\n",
    "III.[Feature Engineering](#features)<br>\n",
    "IV. [Modelling](#models)<br>\n",
    "V. [Reports](#reports)<br>\n"
   ]
  },
  {
   "cell_type": "code",
   "execution_count": 1,
   "metadata": {},
   "outputs": [],
   "source": [
    "# import libraries\n",
    "from pyspark.sql import SparkSession, Window\n",
    "from pyspark.sql.functions import avg, stddev, split, udf, isnull, first, col, format_number, rand, when, asc, count,lit\n",
    "from pyspark.sql.functions import min as fmin, max as fmax, sum as fsum, round as fround\n",
    "from pyspark.sql.types import IntegerType, FloatType, StringType\n",
    "\n",
    "from pyspark.ml import Pipeline\n",
    "from pyspark.ml.classification import LogisticRegression, DecisionTreeClassifier,RandomForestClassifier, LinearSVC\n",
    "from pyspark.ml.feature import StandardScaler, VectorAssembler\n",
    "from pyspark.ml.evaluation import MulticlassClassificationEvaluator\n",
    "from pyspark.mllib.evaluation import MulticlassMetrics\n",
    "from pyspark.ml.tuning import CrossValidator, ParamGridBuilder\n",
    "from pyspark.ml import Pipeline"
   ]
  },
  {
   "cell_type": "code",
   "execution_count": 2,
   "metadata": {},
   "outputs": [],
   "source": [
    "import re\n",
    "import copy\n",
    "import time\n",
    "import datetime\n",
    "import numpy as np\n",
    "import pandas as pd\n",
    "import seaborn as sns\n",
    "import matplotlib.pyplot as plt\n",
    "from statsmodels.stats.proportion import proportions_ztest\n",
    "\n",
    "%matplotlib inline"
   ]
  },
  {
   "cell_type": "code",
   "execution_count": 3,
   "metadata": {},
   "outputs": [],
   "source": [
    "#set seaborn style\n",
    "sns.set(style='whitegrid')"
   ]
  },
  {
   "cell_type": "code",
   "execution_count": 4,
   "metadata": {},
   "outputs": [],
   "source": [
    "# create a Spark session\n",
    "spark = SparkSession.builder.appName('Sparkify_local').getOrCreate()"
   ]
  },
  {
   "cell_type": "markdown",
   "metadata": {},
   "source": [
    "# Load and Clean Dataset\n",
    "<a class=\"anchor\" id=\"load\"></a>\n",
    "In this workspace, the mini-dataset file is `mini_sparkify_event_data.json`. Load and clean the dataset, checking for invalid or missing data - for example, rec\n",
    "ords without userids or sessionids. "
   ]
  },
  {
   "cell_type": "code",
   "execution_count": 5,
   "metadata": {},
   "outputs": [
    {
     "name": "stdout",
     "output_type": "stream",
     "text": [
      "+--------------+---------+---------+------+-------------+--------+---------+-----+---------------+------+--------+-------------+---------+---------+------+-------------+--------------------+------+\n",
      "|        artist|     auth|firstName|gender|itemInSession|lastName|   length|level|       location|method|    page| registration|sessionId|     song|status|           ts|           userAgent|userId|\n",
      "+--------------+---------+---------+------+-------------+--------+---------+-----+---------------+------+--------+-------------+---------+---------+------+-------------+--------------------+------+\n",
      "|Martha Tilston|Logged In|    Colin|     M|           50| Freeman|277.89016| paid|Bakersfield, CA|   PUT|NextSong|1538173362000|       29|Rockpools|   200|1538352117000|Mozilla/5.0 (Wind...|    30|\n",
      "+--------------+---------+---------+------+-------------+--------+---------+-----+---------------+------+--------+-------------+---------+---------+------+-------------+--------------------+------+\n",
      "only showing top 1 row\n",
      "\n"
     ]
    }
   ],
   "source": [
    "df = spark.read.json('mini_sparkify_event_data.json')\n",
    "df.show(1)"
   ]
  },
  {
   "cell_type": "code",
   "execution_count": 6,
   "metadata": {},
   "outputs": [
    {
     "name": "stdout",
     "output_type": "stream",
     "text": [
      "root\n",
      " |-- artist: string (nullable = true)\n",
      " |-- auth: string (nullable = true)\n",
      " |-- firstName: string (nullable = true)\n",
      " |-- gender: string (nullable = true)\n",
      " |-- itemInSession: long (nullable = true)\n",
      " |-- lastName: string (nullable = true)\n",
      " |-- length: double (nullable = true)\n",
      " |-- level: string (nullable = true)\n",
      " |-- location: string (nullable = true)\n",
      " |-- method: string (nullable = true)\n",
      " |-- page: string (nullable = true)\n",
      " |-- registration: long (nullable = true)\n",
      " |-- sessionId: long (nullable = true)\n",
      " |-- song: string (nullable = true)\n",
      " |-- status: long (nullable = true)\n",
      " |-- ts: long (nullable = true)\n",
      " |-- userAgent: string (nullable = true)\n",
      " |-- userId: string (nullable = true)\n",
      "\n"
     ]
    }
   ],
   "source": [
    "df.printSchema()"
   ]
  },
  {
   "cell_type": "code",
   "execution_count": 7,
   "metadata": {},
   "outputs": [
    {
     "name": "stdout",
     "output_type": "stream",
     "text": [
      "+-------+-----------------+\n",
      "|summary|           userId|\n",
      "+-------+-----------------+\n",
      "|  count|           286500|\n",
      "|   mean|59682.02278593872|\n",
      "| stddev|109091.9499991047|\n",
      "|    min|                 |\n",
      "|    max|               99|\n",
      "+-------+-----------------+\n",
      "\n"
     ]
    }
   ],
   "source": [
    "df.describe('userId').show()"
   ]
  },
  {
   "cell_type": "code",
   "execution_count": 8,
   "metadata": {},
   "outputs": [
    {
     "name": "stdout",
     "output_type": "stream",
     "text": [
      "+-------+-----------------+\n",
      "|summary|        sessionId|\n",
      "+-------+-----------------+\n",
      "|  count|           286500|\n",
      "|   mean|1041.526554973822|\n",
      "| stddev|726.7762634630741|\n",
      "|    min|                1|\n",
      "|    max|             2474|\n",
      "+-------+-----------------+\n",
      "\n"
     ]
    }
   ],
   "source": [
    "df.describe('sessionId').show()"
   ]
  },
  {
   "cell_type": "code",
   "execution_count": 9,
   "metadata": {},
   "outputs": [
    {
     "data": {
      "text/plain": [
       "286500"
      ]
     },
     "execution_count": 9,
     "metadata": {},
     "output_type": "execute_result"
    }
   ],
   "source": [
    "#count the number of sessions in the df\n",
    "df.count()"
   ]
  },
  {
   "cell_type": "code",
   "execution_count": 10,
   "metadata": {},
   "outputs": [
    {
     "data": {
      "text/plain": [
       "8346"
      ]
     },
     "execution_count": 10,
     "metadata": {},
     "output_type": "execute_result"
    }
   ],
   "source": [
    "#count the empties in userId\n",
    "df.filter(df['userId']=='').count()"
   ]
  },
  {
   "cell_type": "code",
   "execution_count": 11,
   "metadata": {},
   "outputs": [],
   "source": [
    "#clean the df with userIds\n",
    "df = df.filter(df['userId']!='')"
   ]
  },
  {
   "cell_type": "code",
   "execution_count": 12,
   "metadata": {},
   "outputs": [],
   "source": [
    "# Create a user defined function for formating the timestamp\n",
    "get_time = udf(lambda x: datetime.datetime.fromtimestamp(x / 1000.0).strftime(\"%Y-%m-%d %H:%M:%S\"))\n",
    "\n",
    "#Apply the udf on the ts column\n",
    "df = df.withColumn(\"time\", get_time(df.ts))"
   ]
  },
  {
   "cell_type": "code",
   "execution_count": 13,
   "metadata": {},
   "outputs": [
    {
     "data": {
      "text/plain": [
       "[Row(artist='Martha Tilston', auth='Logged In', firstName='Colin', gender='M', itemInSession=50, lastName='Freeman', length=277.89016, level='paid', location='Bakersfield, CA', method='PUT', page='NextSong', registration=1538173362000, sessionId=29, song='Rockpools', status=200, ts=1538352117000, userAgent='Mozilla/5.0 (Windows NT 6.1; WOW64; rv:31.0) Gecko/20100101 Firefox/31.0', userId='30', time='2018-10-01 00:01:57')]"
      ]
     },
     "execution_count": 13,
     "metadata": {},
     "output_type": "execute_result"
    }
   ],
   "source": [
    "df.take(1)"
   ]
  },
  {
   "cell_type": "markdown",
   "metadata": {},
   "source": [
    "# Exploratory Data Analysis\n",
    "<a class=\"anchor\" id=\"EDA\"></a>\n",
    "When you're working with the full dataset, perform EDA by loading a small subset of the data and doing basic manipulations within Spark. In this workspace, you are already provided a small subset of data you can explore.\n",
    "\n",
    "\n",
    "### Explore Data\n",
    "Once you've defined churn, perform some exploratory data analysis to observe the behavior for users who stayed vs users who churned. You can start by exploring aggregates on these two groups of users, observing how much of a specific action they experienced per a certain time unit or number of songs played."
   ]
  },
  {
   "cell_type": "code",
   "execution_count": 14,
   "metadata": {},
   "outputs": [],
   "source": [
    "# Number of unique userId's to be sampled for exploratory data analysis\n",
    "user_sample_size = 250\n",
    "\n",
    "# Unique userId's from the full dataset\n",
    "users = [row.userId for row in df.select('userId').dropDuplicates().collect()]\n",
    "\n",
    "# Sample userId's\n",
    "if len(users) > user_sample_size:\n",
    "    user_sample = list(np.random.choice(users, size=user_sample_size, replace=False))\n",
    "else:\n",
    "    user_sample = list(np.copy(users))\n",
    "\n",
    "# Create subset of the full dataset\n",
    "df_sub = df.filter(df['userId'].isin(user_sample))"
   ]
  },
  {
   "cell_type": "code",
   "execution_count": 15,
   "metadata": {},
   "outputs": [
    {
     "name": "stdout",
     "output_type": "stream",
     "text": [
      "Possible values of 'level':\n",
      "['free', 'paid']\n"
     ]
    }
   ],
   "source": [
    "# Possible values of level\n",
    "coln = 'level'\n",
    "print(f\"Possible values of '{coln}':\")\n",
    "print([x[coln] for x in df_sub.select(coln).dropDuplicates().collect()])"
   ]
  },
  {
   "cell_type": "code",
   "execution_count": 16,
   "metadata": {},
   "outputs": [
    {
     "name": "stdout",
     "output_type": "stream",
     "text": [
      "Possible values of 'page':\n",
      "['Cancel', 'Submit Downgrade', 'Thumbs Down', 'Home', 'Downgrade', 'Roll Advert', 'Logout', 'Save Settings', 'Cancellation Confirmation', 'About', 'Settings', 'Add to Playlist', 'Add Friend', 'NextSong', 'Thumbs Up', 'Help', 'Upgrade', 'Error', 'Submit Upgrade']\n"
     ]
    }
   ],
   "source": [
    "# Possible values of page\n",
    "coln = 'page'\n",
    "print(f\"Possible values of '{coln}':\")\n",
    "print([x[coln] for x in df_sub.select(coln).dropDuplicates().collect()])"
   ]
  },
  {
   "cell_type": "code",
   "execution_count": 17,
   "metadata": {},
   "outputs": [
    {
     "data": {
      "text/plain": [
       "[Row(page='Cancel'),\n",
       " Row(page='Submit Downgrade'),\n",
       " Row(page='Thumbs Down'),\n",
       " Row(page='Home'),\n",
       " Row(page='Downgrade'),\n",
       " Row(page='Roll Advert'),\n",
       " Row(page='Logout'),\n",
       " Row(page='Save Settings'),\n",
       " Row(page='Cancellation Confirmation'),\n",
       " Row(page='About'),\n",
       " Row(page='Settings'),\n",
       " Row(page='Add to Playlist'),\n",
       " Row(page='Add Friend'),\n",
       " Row(page='NextSong'),\n",
       " Row(page='Thumbs Up'),\n",
       " Row(page='Help'),\n",
       " Row(page='Upgrade'),\n",
       " Row(page='Error'),\n",
       " Row(page='Submit Upgrade')]"
      ]
     },
     "execution_count": 17,
     "metadata": {},
     "output_type": "execute_result"
    }
   ],
   "source": [
    "#first we should define a column named Churn as dataset's label for predict\n",
    "#find the flag event\n",
    "df.select('page').dropDuplicates().collect()"
   ]
  },
  {
   "cell_type": "markdown",
   "metadata": {},
   "source": [
    "### Define Churn\n",
    "\n",
    "Once you've done some preliminary analysis, create a column `Churn` to use as the label for your model. I suggest using the `Cancellation Confirmation` events to define your churn, which happen for both paid and free users. As a bonus task, you can also look into the `Downgrade` events.\n"
   ]
  },
  {
   "cell_type": "code",
   "execution_count": 18,
   "metadata": {},
   "outputs": [],
   "source": [
    "#define the churn\n",
    "df = df.withColumn('churn', when(df.page == 'Cancellation Confirmation', 1).otherwise(0))\n",
    "df = df.withColumn('Churn', fmax('churn').over(Window.partitionBy('UserId')))"
   ]
  },
  {
   "cell_type": "code",
   "execution_count": 19,
   "metadata": {},
   "outputs": [],
   "source": [
    "flag_churn_event = udf(lambda x: 1 if x == \"Cancellation Confirmation\" else 0, IntegerType())\n",
    "df_sub = df_sub.withColumn(\"churned\", flag_churn_event(\"page\"))\n",
    "\n",
    "# Calculate flags of churn\n",
    "windowval = Window.partitionBy(\"userId\").orderBy(asc(\"ts\")).rangeBetween(Window.unboundedPreceding, 0)\n",
    "\n",
    "# # 1 means the user has already churned at this timestamp\n",
    "# df_sub = df_sub.withColumn(\"churnPhase\", fsum('churned').over(windowval))\n",
    "\n",
    "# 1 means the user is a churn user\n",
    "df_sub = df_sub.withColumn(\"churnUser\", fmax('churned').over(Window.partitionBy(\"userId\")))"
   ]
  },
  {
   "cell_type": "markdown",
   "metadata": {},
   "source": [
    "### Churn vs. Level (Paid/Free)"
   ]
  },
  {
   "cell_type": "code",
   "execution_count": 20,
   "metadata": {},
   "outputs": [
    {
     "data": {
      "image/png": "[encoded data removed]",
      "text/plain": [
       "<matplotlib.figure.Figure at 0x7f8fa5bac208>"
      ]
     },
     "metadata": {},
     "output_type": "display_data"
    }
   ],
   "source": [
    "# Calculate churns by level\n",
    "levels = df_sub.select(['userId', 'level', 'churnUser'])\\\n",
    "    .dropDuplicates()\\\n",
    "    .groupBy('level')\\\n",
    "    .agg(count('userId').alias('num_users'), fsum('churnUser').alias('num_churns'))\n",
    "levels_df = levels.toPandas()\n",
    "\n",
    "# Visualize level patterns\n",
    "plt.figure(figsize=(5,4))\n",
    "plt.bar(levels_df['level'], levels_df['num_churns'] / levels_df['num_users'])\n",
    "plt.xticks(fontsize=14)\n",
    "plt.yticks(fontsize=14)\n",
    "plt.xlabel(\"User level\", fontsize=14)\n",
    "plt.ylabel(\"Churn rate\", fontsize=14)\n",
    "plt.title(\"Churn rate vs. user level\", fontsize=14);"
   ]
  },
  {
   "cell_type": "code",
   "execution_count": 21,
   "metadata": {},
   "outputs": [
    {
     "data": {
      "image/png": "[encoded data removed]",
      "text/plain": [
       "<matplotlib.figure.Figure at 0x7f8fa5427fd0>"
      ]
     },
     "metadata": {},
     "output_type": "display_data"
    }
   ],
   "source": [
    "# Visualize the number of users by level\n",
    "func_churn_label = udf(lambda x: 'Churn' if x == 1 else 'Not Churn')\n",
    "level_users_pd = df_sub.select(['userId', 'level', 'churnUser']).dropDuplicates()\\\n",
    "    .withColumn('churnUser', func_churn_label('churnUser'))\\\n",
    "    .toPandas()\n",
    "\n",
    "fig = plt.figure(figsize=(6, 4))\n",
    "sns.countplot(x=\"level\", hue=\"churnUser\", data=level_users_pd,\n",
    "#                palette=['steelblue', 'orange'], ci=None,\n",
    ");\n",
    "plt.ylim(0, 180)\n",
    "plt.xticks(fontsize=14)\n",
    "plt.yticks(fontsize=14)\n",
    "plt.xlabel(\"Level of user\", fontsize=14)\n",
    "plt.ylabel(\"Number of users\", fontsize=14)\n",
    "plt.title(\"Number of users at each level\", fontsize=14)\n",
    "plt.legend(loc='best', fontsize=14);"
   ]
  },
  {
   "cell_type": "markdown",
   "metadata": {},
   "source": [
    "### Churn vs. page events"
   ]
  },
  {
   "cell_type": "code",
   "execution_count": 22,
   "metadata": {},
   "outputs": [
    {
     "data": {
      "text/html": [
       "<div>\n",
       "<style scoped>\n",
       "    .dataframe tbody tr th:only-of-type {\n",
       "        vertical-align: middle;\n",
       "    }\n",
       "\n",
       "    .dataframe tbody tr th {\n",
       "        vertical-align: top;\n",
       "    }\n",
       "\n",
       "    .dataframe thead th {\n",
       "        text-align: right;\n",
       "    }\n",
       "</style>\n",
       "<table border=\"1\" class=\"dataframe\">\n",
       "  <thead>\n",
       "    <tr style=\"text-align: right;\">\n",
       "      <th></th>\n",
       "      <th>userId</th>\n",
       "      <th>About</th>\n",
       "      <th>Add Friend</th>\n",
       "      <th>Add to Playlist</th>\n",
       "      <th>Cancel</th>\n",
       "      <th>Churn</th>\n",
       "      <th>Downgrade</th>\n",
       "      <th>Error</th>\n",
       "      <th>Help</th>\n",
       "      <th>Home</th>\n",
       "      <th>Logout</th>\n",
       "      <th>NextSong</th>\n",
       "      <th>Roll Advert</th>\n",
       "      <th>Save Settings</th>\n",
       "      <th>Settings</th>\n",
       "      <th>Submit Downgrade</th>\n",
       "      <th>Submit Upgrade</th>\n",
       "      <th>Thumbs Down</th>\n",
       "      <th>Thumbs Up</th>\n",
       "      <th>Upgrade</th>\n",
       "    </tr>\n",
       "  </thead>\n",
       "  <tbody>\n",
       "    <tr>\n",
       "      <th>0</th>\n",
       "      <td>200002</td>\n",
       "      <td>3</td>\n",
       "      <td>4</td>\n",
       "      <td>8</td>\n",
       "      <td>0</td>\n",
       "      <td>0</td>\n",
       "      <td>5</td>\n",
       "      <td>0</td>\n",
       "      <td>2</td>\n",
       "      <td>20</td>\n",
       "      <td>5</td>\n",
       "      <td>387</td>\n",
       "      <td>7</td>\n",
       "      <td>0</td>\n",
       "      <td>3</td>\n",
       "      <td>0</td>\n",
       "      <td>1</td>\n",
       "      <td>6</td>\n",
       "      <td>21</td>\n",
       "      <td>2</td>\n",
       "    </tr>\n",
       "    <tr>\n",
       "      <th>1</th>\n",
       "      <td>100010</td>\n",
       "      <td>1</td>\n",
       "      <td>4</td>\n",
       "      <td>7</td>\n",
       "      <td>0</td>\n",
       "      <td>0</td>\n",
       "      <td>0</td>\n",
       "      <td>0</td>\n",
       "      <td>2</td>\n",
       "      <td>11</td>\n",
       "      <td>5</td>\n",
       "      <td>275</td>\n",
       "      <td>52</td>\n",
       "      <td>0</td>\n",
       "      <td>0</td>\n",
       "      <td>0</td>\n",
       "      <td>0</td>\n",
       "      <td>5</td>\n",
       "      <td>17</td>\n",
       "      <td>2</td>\n",
       "    </tr>\n",
       "    <tr>\n",
       "      <th>2</th>\n",
       "      <td>125</td>\n",
       "      <td>0</td>\n",
       "      <td>0</td>\n",
       "      <td>0</td>\n",
       "      <td>1</td>\n",
       "      <td>1</td>\n",
       "      <td>0</td>\n",
       "      <td>0</td>\n",
       "      <td>0</td>\n",
       "      <td>0</td>\n",
       "      <td>0</td>\n",
       "      <td>8</td>\n",
       "      <td>1</td>\n",
       "      <td>0</td>\n",
       "      <td>0</td>\n",
       "      <td>0</td>\n",
       "      <td>0</td>\n",
       "      <td>0</td>\n",
       "      <td>0</td>\n",
       "      <td>0</td>\n",
       "    </tr>\n",
       "    <tr>\n",
       "      <th>3</th>\n",
       "      <td>51</td>\n",
       "      <td>2</td>\n",
       "      <td>28</td>\n",
       "      <td>52</td>\n",
       "      <td>1</td>\n",
       "      <td>1</td>\n",
       "      <td>23</td>\n",
       "      <td>1</td>\n",
       "      <td>12</td>\n",
       "      <td>75</td>\n",
       "      <td>24</td>\n",
       "      <td>2111</td>\n",
       "      <td>0</td>\n",
       "      <td>1</td>\n",
       "      <td>12</td>\n",
       "      <td>0</td>\n",
       "      <td>0</td>\n",
       "      <td>21</td>\n",
       "      <td>100</td>\n",
       "      <td>0</td>\n",
       "    </tr>\n",
       "    <tr>\n",
       "      <th>4</th>\n",
       "      <td>124</td>\n",
       "      <td>7</td>\n",
       "      <td>74</td>\n",
       "      <td>118</td>\n",
       "      <td>0</td>\n",
       "      <td>0</td>\n",
       "      <td>41</td>\n",
       "      <td>6</td>\n",
       "      <td>23</td>\n",
       "      <td>176</td>\n",
       "      <td>59</td>\n",
       "      <td>4079</td>\n",
       "      <td>4</td>\n",
       "      <td>6</td>\n",
       "      <td>20</td>\n",
       "      <td>0</td>\n",
       "      <td>0</td>\n",
       "      <td>41</td>\n",
       "      <td>171</td>\n",
       "      <td>0</td>\n",
       "    </tr>\n",
       "  </tbody>\n",
       "</table>\n",
       "</div>"
      ],
      "text/plain": [
       "   userId  About  Add Friend  Add to Playlist  Cancel  Churn  Downgrade  \\\n",
       "0  200002      3           4                8       0      0          5   \n",
       "1  100010      1           4                7       0      0          0   \n",
       "2     125      0           0                0       1      1          0   \n",
       "3      51      2          28               52       1      1         23   \n",
       "4     124      7          74              118       0      0         41   \n",
       "\n",
       "   Error  Help  Home  Logout  NextSong  Roll Advert  Save Settings  Settings  \\\n",
       "0      0     2    20       5       387            7              0         3   \n",
       "1      0     2    11       5       275           52              0         0   \n",
       "2      0     0     0       0         8            1              0         0   \n",
       "3      1    12    75      24      2111            0              1        12   \n",
       "4      6    23   176      59      4079            4              6        20   \n",
       "\n",
       "   Submit Downgrade  Submit Upgrade  Thumbs Down  Thumbs Up  Upgrade  \n",
       "0                 0               1            6         21        2  \n",
       "1                 0               0            5         17        2  \n",
       "2                 0               0            0          0        0  \n",
       "3                 0               0           21        100        0  \n",
       "4                 0               0           41        171        0  "
      ]
     },
     "execution_count": 22,
     "metadata": {},
     "output_type": "execute_result"
    }
   ],
   "source": [
    "# Create pivot table of page events\n",
    "pages = df_sub.groupBy(['userId']).pivot('page').count().fillna(0)\n",
    "pages_df = pages.toPandas()\n",
    "\n",
    "pages_df = pages_df.rename(columns={\"Cancellation Confirmation\": \"Churn\"})\n",
    "pages_df.head()"
   ]
  },
  {
   "cell_type": "code",
   "execution_count": 23,
   "metadata": {},
   "outputs": [
    {
     "data": {
      "image/png": "[encoded data removed]",
      "text/plain": [
       "<matplotlib.figure.Figure at 0x7f8fa52b3f28>"
      ]
     },
     "metadata": {},
     "output_type": "display_data"
    }
   ],
   "source": [
    "# Visualize churn patterns by page event\n",
    "fig = plt.figure(figsize=(12, 12))\n",
    "cols_interest = ['About', 'Add Friend', 'Add to Playlist', 'Downgrade', 'Error', 'Help', 'Home', \n",
    "                 'Logout', 'NextSong', 'Roll Advert', 'Save Settings', 'Settings', 'Thumbs Down', \n",
    "                 'Thumbs Up', 'Upgrade']\n",
    "\n",
    "for i, coln in enumerate(cols_interest):\n",
    "    ax = fig.add_subplot(4,5,i+1)\n",
    "    pages_df.boxplot(coln, ax=ax, grid=False,  by='Churn', showfliers=False);\n",
    "\n",
    "fig.suptitle('')\n",
    "plt.tight_layout()"
   ]
  },
  {
   "cell_type": "code",
   "execution_count": 24,
   "metadata": {},
   "outputs": [
    {
     "data": {
      "text/plain": [
       "<matplotlib.figure.Figure at 0x7f8fa54275f8>"
      ]
     },
     "metadata": {},
     "output_type": "display_data"
    },
    {
     "data": {
      "image/png": "[encoded data removed]",
      "text/plain": [
       "<matplotlib.figure.Figure at 0x7f8fa4edc828>"
      ]
     },
     "metadata": {},
     "output_type": "display_data"
    }
   ],
   "source": [
    "# Visualize the distribution of page events\n",
    "pages_df['Churn'] = pages_df['Churn'].replace({1: \"Churn\", 0: \"Not Churn\"})\n",
    "pages_df = pages_df.drop('Cancel', axis=1)\n",
    "\n",
    "page_events_pd = pd.melt(\n",
    "    pages_df, id_vars=['userId', 'Churn'], \n",
    "    value_vars=list(pages_df.columns[1:].drop('Churn')),\n",
    "    var_name='page', \n",
    "    value_name='number_visits'\n",
    ").reset_index()\n",
    "\n",
    "fig = plt.figure(figsize=(10, 6))\n",
    "sns.factorplot(x=\"page\", y=\"number_visits\", hue=\"Churn\", data=page_events_pd,\n",
    "               kind=\"bar\", aspect=3, legend=False, log=True);\n",
    "plt.xticks(rotation=30, ha='right', fontsize=14)\n",
    "plt.yticks(fontsize=14)\n",
    "plt.xlabel(\"Page event\", fontsize=14)\n",
    "plt.ylabel(\"Number of page visits\", fontsize=14)\n",
    "plt.title(\"Number of page visits\", fontsize=14)\n",
    "plt.legend(loc='best', fontsize=14);"
   ]
  },
  {
   "cell_type": "markdown",
   "metadata": {},
   "source": [
    "# Feature Engineering\n",
    "<a class=\"anchor\" id=\"features\"></a>\n",
    "Once you've familiarized yourself with the data, build out the features you find promising to train your model on. To work with the full dataset, you can follow the following steps.\n",
    "- Write a script to extract the necessary features from the smaller subset of data\n",
    "- Ensure that your script is scalable, using the best practices discussed in Lesson 3\n",
    "- Try your script on the full data set, debugging your script if necessary\n",
    "\n",
    "If you are working in the classroom workspace, you can just extract features based on the small subset of data contained here. Be sure to transfer over this work to the larger dataset when you work on your Spark cluster."
   ]
  },
  {
   "cell_type": "markdown",
   "metadata": {},
   "source": [
    ">Extract 8 features that might have higher impact on churning: \n",
    "1. total songs played\n",
    "2. number of thumbs up \n",
    "3. number of thumbs down \n",
    "4. time since registration \n",
    "5. average songs played per session \n",
    "6. friends added\n",
    "7. errors\n",
    "8. churn"
   ]
  },
  {
   "cell_type": "code",
   "execution_count": 26,
   "metadata": {},
   "outputs": [],
   "source": [
    "features=[]"
   ]
  },
  {
   "cell_type": "code",
   "execution_count": 27,
   "metadata": {},
   "outputs": [
    {
     "name": "stdout",
     "output_type": "stream",
     "text": [
      "root\n",
      " |-- artist: string (nullable = true)\n",
      " |-- auth: string (nullable = true)\n",
      " |-- firstName: string (nullable = true)\n",
      " |-- gender: string (nullable = true)\n",
      " |-- itemInSession: long (nullable = true)\n",
      " |-- lastName: string (nullable = true)\n",
      " |-- length: double (nullable = true)\n",
      " |-- level: string (nullable = true)\n",
      " |-- location: string (nullable = true)\n",
      " |-- method: string (nullable = true)\n",
      " |-- page: string (nullable = true)\n",
      " |-- registration: long (nullable = true)\n",
      " |-- sessionId: long (nullable = true)\n",
      " |-- song: string (nullable = true)\n",
      " |-- status: long (nullable = true)\n",
      " |-- ts: long (nullable = true)\n",
      " |-- userAgent: string (nullable = true)\n",
      " |-- userId: string (nullable = true)\n",
      " |-- time: string (nullable = true)\n",
      " |-- Churn: integer (nullable = true)\n",
      "\n"
     ]
    }
   ],
   "source": [
    "df.printSchema()"
   ]
  },
  {
   "cell_type": "code",
   "execution_count": 28,
   "metadata": {},
   "outputs": [],
   "source": [
    "#1. total songs played\n",
    "songs_played_df= df.select('userId','page').where(df.page =='NextSong').groupby('userId').count()\\\n",
    "                .withColumnRenamed('count','songs')\n",
    "features.append(songs_played_df)\n",
    "\n",
    "#2. thumbs up    \n",
    "thumbs_up_df = df.select('userId', 'page').where(df.page == 'Thumbs Up').groupby('userId').count()\\\n",
    "                                          .withColumnRenamed('count', 'thumbs_up')\n",
    "features.append(thumbs_up_df)\n",
    "\n",
    "#3. thumbs down    \n",
    "thumbs_down_df = df.select('userId', 'page').where(df.page == 'Thumbs Down').groupby('userId').count() .withColumnRenamed('count', 'thumbs_down')\n",
    "features.append(thumbs_down_df)\n",
    "\n",
    "# 4. time since registration \n",
    "time_since_registration_df = df.groupby(['userId', 'ts', 'registration']).count() \\\n",
    "                    .withColumn('life_time', (df.ts - df.registration) / 1000) \\\n",
    "                    .groupBy('userId').agg(fmax('life_time')) \\\n",
    "                    .withColumnRenamed('max(life_time)', 'time_since_registration')\n",
    "features.append(time_since_registration_df)\n",
    "\n",
    "\n",
    "# 5. average songs played per session \n",
    "avg_songs_p_session_df = df.where(df.song.isNotNull()).groupby(['userId', 'sessionId']).count()\\\n",
    "                            .groupby(['userId']).agg({'count': 'avg'}) \\\n",
    "                            .withColumnRenamed('avg(count)', 'avg_songs_p_session')\n",
    "features.append(avg_songs_p_session_df )\n",
    "\n",
    "# 6. friends added\n",
    "number_of_friends_df = df.where('page == \"Add Friend\"').groupby(['userId']).count()\\\n",
    "                        .groupby(['userId']).agg({'count': 'avg'}).withColumnRenamed('avg(count)', 'friends_added')\n",
    "features.append(number_of_friends_df)\n",
    "\n",
    "# 7. errors\n",
    "errors_df = df.groupby('userId').agg(fsum(when(col('page') == 'Error', 1).otherwise(0)).alias('errors'))\n",
    "features.append(errors_df)\n",
    "\n",
    "# 8. churn\n",
    "churn = df.select('userId', 'Churn').dropDuplicates()\n",
    "features.append(churn)"
   ]
  },
  {
   "cell_type": "code",
   "execution_count": 29,
   "metadata": {},
   "outputs": [
    {
     "name": "stdout",
     "output_type": "stream",
     "text": [
      "[DataFrame[userId: string, songs: bigint], DataFrame[userId: string, thumbs_up: bigint], DataFrame[userId: string, thumbs_down: bigint], DataFrame[userId: string, time_since_registration: double], DataFrame[userId: string, avg_songs_p_session: double], DataFrame[userId: string, friends_added: double], DataFrame[userId: string, errors: bigint], DataFrame[userId: string, Churn: int]]\n"
     ]
    }
   ],
   "source": [
    "print(features)"
   ]
  },
  {
   "cell_type": "code",
   "execution_count": 30,
   "metadata": {},
   "outputs": [],
   "source": [
    "test_final_df = songs_played_df.join(thumbs_up_df,on='userId',how='inner').\\\n",
    "                        join(thumbs_down_df,on='userId',how='inner').\\\n",
    "                        join(errors_df,on='userId',how='inner').\\\n",
    "                        join(time_since_registration_df,on='userId',how='inner').\\\n",
    "                        join(avg_songs_p_session_df,on='userId',how='inner').\\\n",
    "                        join(number_of_friends_df,on='userId',how='inner').\\\n",
    "                        join(churn,on='userId',how='inner')\n",
    "\n",
    "    "
   ]
  },
  {
   "cell_type": "code",
   "execution_count": 31,
   "metadata": {},
   "outputs": [
    {
     "name": "stdout",
     "output_type": "stream",
     "text": [
      "root\n",
      " |-- userId: string (nullable = true)\n",
      " |-- songs: long (nullable = false)\n",
      " |-- thumbs_up: long (nullable = false)\n",
      " |-- thumbs_down: long (nullable = false)\n",
      " |-- errors: long (nullable = true)\n",
      " |-- time_since_registration: double (nullable = true)\n",
      " |-- avg_songs_p_session: double (nullable = true)\n",
      " |-- friends_added: double (nullable = true)\n",
      " |-- Churn: integer (nullable = true)\n",
      "\n"
     ]
    }
   ],
   "source": [
    "test_final_df.printSchema()"
   ]
  },
  {
   "cell_type": "code",
   "execution_count": 32,
   "metadata": {},
   "outputs": [
    {
     "name": "stdout",
     "output_type": "stream",
     "text": [
      "+------+-----+---------+-----------+------+-----------------------+-------------------+-------------+-----+\n",
      "|userId|songs|thumbs_up|thumbs_down|errors|time_since_registration|avg_songs_p_session|friends_added|Churn|\n",
      "+------+-----+---------+-----------+------+-----------------------+-------------------+-------------+-----+\n",
      "|100010|  275|       17|          5|     0|              4807612.0| 39.285714285714285|          4.0|    0|\n",
      "|200002|  387|       21|          6|     0|              6054448.0|               64.5|          4.0|    0|\n",
      "|   124| 4079|      171|         41|     6|            1.1366431E7| 145.67857142857142|         74.0|    0|\n",
      "|    51| 2111|      100|         21|     1|              1680985.0|              211.1|         28.0|    1|\n",
      "|     7|  150|        7|          1|     1|              6288035.0| 21.428571428571427|          1.0|    0|\n",
      "+------+-----+---------+-----------+------+-----------------------+-------------------+-------------+-----+\n",
      "only showing top 5 rows\n",
      "\n"
     ]
    }
   ],
   "source": [
    "test_final_df.show(5)"
   ]
  },
  {
   "cell_type": "code",
   "execution_count": 33,
   "metadata": {},
   "outputs": [
    {
     "data": {
      "text/plain": [
       "['userId',\n",
       " 'songs',\n",
       " 'thumbs_up',\n",
       " 'thumbs_down',\n",
       " 'errors',\n",
       " 'time_since_registration',\n",
       " 'avg_songs_p_session',\n",
       " 'friends_added',\n",
       " 'Churn']"
      ]
     },
     "execution_count": 33,
     "metadata": {},
     "output_type": "execute_result"
    }
   ],
   "source": [
    "test_final_df.columns"
   ]
  },
  {
   "cell_type": "code",
   "execution_count": 34,
   "metadata": {},
   "outputs": [],
   "source": [
    "# Create VectorAssembler and StandardScaler objects\n",
    "# numeric features transform separately from binary\n",
    "num_vector = VectorAssembler(inputCols=['songs','thumbs_up', 'thumbs_down','errors','time_since_registration',\\\n",
    "                                        'avg_songs_p_session','friends_added'], \n",
    "                             outputCol='num_vector_assem')\n",
    "\n",
    "num_scaler = StandardScaler(inputCol='num_vector_assem', outputCol ='num_vector_sc', withStd=True, withMean=True)\n",
    "\n",
    "final_vector = VectorAssembler(inputCols=['num_vector_sc'], \n",
    "                               outputCol='features_vector')"
   ]
  },
  {
   "cell_type": "code",
   "execution_count": 35,
   "metadata": {},
   "outputs": [],
   "source": [
    "# Transform data\n",
    "data = num_vector.transform(test_final_df)\n",
    "\n",
    "feature_standardize = num_scaler.fit(data)\n",
    "data = feature_standardize.transform(data)\n",
    "\n",
    "data = final_vector.transform(data)"
   ]
  },
  {
   "cell_type": "code",
   "execution_count": 36,
   "metadata": {},
   "outputs": [
    {
     "name": "stdout",
     "output_type": "stream",
     "text": [
      "+------+-----+---------+-----------+------+-----------------------+-------------------+-------------+-----+--------------------+--------------------+--------------------+\n",
      "|userId|songs|thumbs_up|thumbs_down|errors|time_since_registration|avg_songs_p_session|friends_added|Churn|    num_vector_assem|       num_vector_sc|     features_vector|\n",
      "+------+-----+---------+-----------+------+-----------------------+-------------------+-------------+-----+--------------------+--------------------+--------------------+\n",
      "|100010|  275|       17|          5|     0|              4807612.0| 39.285714285714285|          4.0|    0|[275.0,17.0,5.0,0...|[-0.7981503730138...|[-0.7981503730138...|\n",
      "|200002|  387|       21|          6|     0|              6054448.0|               64.5|          4.0|    0|[387.0,21.0,6.0,0...|[-0.6981363532632...|[-0.6981363532632...|\n",
      "+------+-----+---------+-----------+------+-----------------------+-------------------+-------------+-----+--------------------+--------------------+--------------------+\n",
      "only showing top 2 rows\n",
      "\n"
     ]
    }
   ],
   "source": [
    "data.show(2)"
   ]
  },
  {
   "cell_type": "code",
   "execution_count": 37,
   "metadata": {},
   "outputs": [
    {
     "data": {
      "text/plain": [
       "[Row(Churn=0, features_vector=DenseVector([-0.7982, -0.7053, -0.6084, -0.8536, -0.723, -0.944, -0.8644]))]"
      ]
     },
     "execution_count": 37,
     "metadata": {},
     "output_type": "execute_result"
    }
   ],
   "source": [
    "#final data\n",
    "data = data.select(data.Churn, data.features_vector)\n",
    "data.take(1)"
   ]
  },
  {
   "cell_type": "markdown",
   "metadata": {},
   "source": [
    "# Modelling\n",
    "<a class=\"anchor\" id=\"models\"></a>\n",
    "Split the full dataset into train, test, and validation sets. Test out several of the machine learning methods you learned. Evaluate the accuracy of the various models, tuning parameters as necessary. Determine your winning model based on test accuracy and report results on the validation set. Since the churned users are a fairly small subset, I suggest using F1 score as the metric to optimize."
   ]
  },
  {
   "cell_type": "code",
   "execution_count": 38,
   "metadata": {},
   "outputs": [],
   "source": [
    "train, test = data.randomSplit([0.6, 0.4], seed=42)"
   ]
  },
  {
   "cell_type": "code",
   "execution_count": 39,
   "metadata": {},
   "outputs": [
    {
     "name": "stdout",
     "output_type": "stream",
     "text": [
      "+-----+--------------------+----------+\n",
      "|Churn|     features_vector|prediction|\n",
      "+-----+--------------------+----------+\n",
      "|    0|[-0.7981503730138...|       0.0|\n",
      "|    0|[-0.6981363532632...|       0.0|\n",
      "|    0|[2.59875436923173...|       0.0|\n",
      "|    0|[0.66544764815872...|       0.0|\n",
      "|    0|[0.67794940062755...|       0.0|\n",
      "+-----+--------------------+----------+\n",
      "only showing top 5 rows\n",
      "\n"
     ]
    }
   ],
   "source": [
    "#baseline model\n",
    "baseline = test.withColumn('prediction', lit(0.0))\n",
    "baseline.show(5)"
   ]
  },
  {
   "cell_type": "code",
   "execution_count": 40,
   "metadata": {},
   "outputs": [],
   "source": [
    "def evaluate_print(model_result, model_name, start, end):\n",
    "    \n",
    "    evaluator = MulticlassClassificationEvaluator(predictionCol='prediction')\n",
    "    evaluator.setLabelCol('Churn')\n",
    "    accuracy = evaluator.evaluate(model_result, {evaluator.metricName : 'accuracy'})\n",
    "    f1 = evaluator.evaluate(model_result, {evaluator.metricName : 'f1'})\n",
    "    time = (end - start)/60\n",
    "    \n",
    "    result = [model_name, round(accuracy,3), round(f1,3), round(time,1)]\n",
    "    \n",
    "    print('{} performance metrics:'.format(model_name))\n",
    "    print('Accuracy: {}'.format(accuracy))\n",
    "    print('F-1 Score: {}'.format(f1))\n",
    "    print('Total training time: {} minutes'.format(time))\n",
    "    \n",
    "    return result"
   ]
  },
  {
   "cell_type": "code",
   "execution_count": 41,
   "metadata": {},
   "outputs": [
    {
     "name": "stdout",
     "output_type": "stream",
     "text": [
      "Baseline performance metrics:\n",
      "Accuracy: 0.7567567567567568\n",
      "F-1 Score: 0.651975051975052\n",
      "Total training time: 0.0 minutes\n"
     ]
    }
   ],
   "source": [
    "#print baseline model\n",
    "baseline_result = evaluate_print(baseline, 'Baseline', 0, 0)"
   ]
  },
  {
   "cell_type": "markdown",
   "metadata": {},
   "source": [
    "### Logistic Regression model"
   ]
  },
  {
   "cell_type": "code",
   "execution_count": 42,
   "metadata": {},
   "outputs": [],
   "source": [
    "numFolds = 3\n",
    "lr = LogisticRegression(maxIter=10, labelCol='Churn', featuresCol='features_vector')\n",
    "evaluator = MulticlassClassificationEvaluator(labelCol='Churn')\n",
    "\n",
    "pipeline = Pipeline(stages=[lr])\n",
    "lr_paramGrid = (ParamGridBuilder()\n",
    "                .addGrid(lr.regParam, [0.1, 0.01, 0.001])\n",
    "                .build())\n",
    "\n",
    "\n",
    "crossval = CrossValidator(\n",
    "    estimator=pipeline,\n",
    "    estimatorParamMaps=lr_paramGrid,\n",
    "    evaluator=evaluator,\n",
    "    numFolds=numFolds)\n",
    "\n",
    "lr_start = time.time()\n",
    "lr_model = crossval.fit(train)\n",
    "lr_end = time.time()"
   ]
  },
  {
   "cell_type": "code",
   "execution_count": 43,
   "metadata": {},
   "outputs": [
    {
     "name": "stdout",
     "output_type": "stream",
     "text": [
      "Logistic Regression performance metrics:\n",
      "Accuracy: 0.7837837837837838\n",
      "F-1 Score: 0.7401918047079337\n",
      "Total training time: 7.29771386384964 minutes\n"
     ]
    }
   ],
   "source": [
    "lr_results = lr_model.transform(test)\n",
    "\n",
    "lr_safe = evaluate_print(lr_results, 'Logistic Regression', lr_start, lr_end)\n"
   ]
  },
  {
   "cell_type": "markdown",
   "metadata": {},
   "source": [
    "### Random Forest Model"
   ]
  },
  {
   "cell_type": "code",
   "execution_count": 44,
   "metadata": {},
   "outputs": [],
   "source": [
    "numFolds = 3\n",
    "rf = RandomForestClassifier(labelCol='Churn', featuresCol='features_vector', seed = 42)\n",
    "evaluator = MulticlassClassificationEvaluator(labelCol='Churn')\n",
    "\n",
    "pipeline = Pipeline(stages=[rf])\n",
    "rf_paramGrid = (ParamGridBuilder()\n",
    "             .addGrid(rf.numTrees, [10,20])\n",
    "             .addGrid(rf.maxDepth, [10,20])\n",
    "             .build())\n",
    "\n",
    "crossval = CrossValidator(\n",
    "    estimator=pipeline,\n",
    "    estimatorParamMaps=rf_paramGrid,\n",
    "    evaluator=evaluator,\n",
    "    numFolds=numFolds)\n",
    "\n",
    "rf_start = time.time()\n",
    "rf_model = crossval.fit(train)\n",
    "rf_end = time.time()"
   ]
  },
  {
   "cell_type": "code",
   "execution_count": 45,
   "metadata": {},
   "outputs": [
    {
     "name": "stdout",
     "output_type": "stream",
     "text": [
      "Random Forest performance metrics:\n",
      "Accuracy: 0.7972972972972973\n",
      "F-1 Score: 0.7787950222027301\n",
      "Total training time: 10.96668842236201 minutes\n"
     ]
    }
   ],
   "source": [
    "rf_results = rf_model.transform(test)\n",
    "\n",
    "rf_safe = evaluate_print(rf_results, 'Random Forest', rf_start, rf_end)\n"
   ]
  },
  {
   "cell_type": "markdown",
   "metadata": {},
   "source": [
    "### Support Vector Machine"
   ]
  },
  {
   "cell_type": "code",
   "execution_count": 46,
   "metadata": {},
   "outputs": [],
   "source": [
    "numFolds = 3\n",
    "svc = LinearSVC(labelCol='Churn', featuresCol='features_vector')\n",
    "evaluator = MulticlassClassificationEvaluator(labelCol='Churn')\n",
    "\n",
    "pipeline = Pipeline(stages=[svc])\n",
    "svc_paramGrid = (ParamGridBuilder()\n",
    "                 .addGrid(svc.maxIter, [5,10])\n",
    "                 .build())\n",
    "\n",
    "crossval = CrossValidator(\n",
    "    estimator=pipeline,\n",
    "    estimatorParamMaps=svc_paramGrid,\n",
    "    evaluator=evaluator,\n",
    "    numFolds=numFolds)\n",
    "\n",
    "svc_start = time.time()\n",
    "svc_model = crossval.fit(train)\n",
    "svc_end = time.time()"
   ]
  },
  {
   "cell_type": "code",
   "execution_count": 47,
   "metadata": {},
   "outputs": [
    {
     "name": "stdout",
     "output_type": "stream",
     "text": [
      "Support Vector Machine performance metrics:\n",
      "Accuracy: 0.7837837837837838\n",
      "F-1 Score: 0.7108108108108109\n",
      "Total training time: 8.25154017607371 minutes\n"
     ]
    }
   ],
   "source": [
    "svc_results = svc_model.transform(test)\n",
    "\n",
    "svc_safe = evaluate_print(svc_results, \"Support Vector Machine\", svc_start, svc_end)\n"
   ]
  },
  {
   "cell_type": "markdown",
   "metadata": {},
   "source": [
    "### Reports\n",
    "<a class=\"anchor\" id=\"reports\"></a>"
   ]
  },
  {
   "cell_type": "code",
   "execution_count": 48,
   "metadata": {},
   "outputs": [],
   "source": [
    "def reports(model_result):\n",
    "    '''\n",
    "    INPUT:\n",
    "    model_result : list\n",
    "    \n",
    "    OUTPUT: None\n",
    "    \n",
    "    Description:\n",
    "    The function aggregate and prints results of models\n",
    "    \n",
    "    '''\n",
    "    print(model_result[0])\n",
    "    print('Accuracy: {}'.format(model_result[1]))\n",
    "    print('F-1 Score: {}'.format(model_result[2]))\n",
    "    print('Total training time: {} minutes'.format(model_result[3]))\n",
    "    \n",
    "    print()"
   ]
  },
  {
   "cell_type": "code",
   "execution_count": 49,
   "metadata": {},
   "outputs": [
    {
     "name": "stdout",
     "output_type": "stream",
     "text": [
      "Baseline\n",
      "Accuracy: 0.757\n",
      "F-1 Score: 0.652\n",
      "Total training time: 0.0 minutes\n",
      "\n",
      "Logistic Regression\n",
      "Accuracy: 0.784\n",
      "F-1 Score: 0.74\n",
      "Total training time: 7.3 minutes\n",
      "\n",
      "Random Forest\n",
      "Accuracy: 0.797\n",
      "F-1 Score: 0.779\n",
      "Total training time: 11.0 minutes\n",
      "\n",
      "Support Vector Machine\n",
      "Accuracy: 0.784\n",
      "F-1 Score: 0.711\n",
      "Total training time: 8.3 minutes\n",
      "\n"
     ]
    }
   ],
   "source": [
    "results_models_list = [baseline_result, lr_safe, rf_safe, svc_safe]\n",
    "\n",
    "for res in results_models_list:\n",
    "    reports(res)"
   ]
  },
  {
   "cell_type": "markdown",
   "metadata": {},
   "source": [
    "# Final Steps\n",
    "Clean up your code, adding comments and renaming variables to make the code easier to read and maintain. Refer to the Spark Project Overview page and Data Scientist Capstone Project Rubric to make sure you are including all components of the capstone project and meet all expectations. Remember, this includes thorough documentation in a README file in a Github repository, as well as a web app or blog post."
   ]
  },
  {
   "cell_type": "code",
   "execution_count": null,
   "metadata": {},
   "outputs": [],
   "source": []
  },
  {
   "cell_type": "code",
   "execution_count": null,
   "metadata": {},
   "outputs": [],
   "source": []
  }
 ],
 "metadata": {
  "kernelspec": {
   "display_name": "Python 3",
   "language": "python",
   "name": "python3"
  },
  "language_info": {
   "codemirror_mode": {
    "name": "ipython",
    "version": 3
   },
   "file_extension": ".py",
   "mimetype": "text/x-python",
   "name": "python",
   "nbconvert_exporter": "python",
   "pygments_lexer": "ipython3",
   "version": "3.6.3"
  }
 },
 "nbformat": 4,
 "nbformat_minor": 2
}
